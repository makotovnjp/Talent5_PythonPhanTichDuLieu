{
 "cells": [
  {
   "cell_type": "markdown",
   "metadata": {},
   "source": [
    "# Đề bài\n",
    "\n",
    "Hãy lập trình cho hàm số rearrange"
   ]
  },
  {
   "cell_type": "code",
   "execution_count": 3,
   "metadata": {},
   "outputs": [],
   "source": [
    "def rearrange(data):\n",
    "    \"\"\"\n",
    "    data: list\n",
    "    \"\"\"\n",
    "    # Start: Phần bạn code\n",
    "    rearrange = []\n",
    "    \n",
    "    print(\"start\")\n",
    "\n",
    "    # End: Phần bạn code\n",
    "    return rearrange"
   ]
  },
  {
   "cell_type": "code",
   "execution_count": 6,
   "metadata": {},
   "outputs": [
    {
     "name": "stdout",
     "output_type": "stream",
     "text": [
      "NG\n"
     ]
    }
   ],
   "source": [
    "# Test\n",
    "if rearrange([0, 1, 3, 4, 2, 4, 5, 1, 6, 9, 8]) == [0, 4, 2, 4, 6, 8, 1, 3, 5, 1, 9]:\n",
    "    print('OK')\n",
    "else:\n",
    "    print('NG')\n",
    "    "
   ]
  },
  {
   "cell_type": "code",
   "execution_count": null,
   "metadata": {},
   "outputs": [],
   "source": []
  }
 ],
 "metadata": {
  "kernelspec": {
   "display_name": "Python 3",
   "language": "python",
   "name": "python3"
  },
  "language_info": {
   "codemirror_mode": {
    "name": "ipython",
    "version": 3
   },
   "file_extension": ".py",
   "mimetype": "text/x-python",
   "name": "python",
   "nbconvert_exporter": "python",
   "pygments_lexer": "ipython3",
   "version": "3.7.6"
  }
 },
 "nbformat": 4,
 "nbformat_minor": 4
}
